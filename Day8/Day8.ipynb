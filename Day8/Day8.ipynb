{
 "cells": [
  {
   "cell_type": "markdown",
   "metadata": {},
   "source": [
    "Lets Explore Datatype"
   ]
  },
  {
   "cell_type": "markdown",
   "metadata": {},
   "source": [
    "1) String"
   ]
  },
  {
   "cell_type": "code",
   "execution_count": 13,
   "metadata": {},
   "outputs": [
    {
     "name": "stdout",
     "output_type": "stream",
     "text": [
      " AI \n",
      "adgjmpsvy\n"
     ]
    }
   ],
   "source": [
    "name = \"IM AI YOU HUMAN IM SUPERIOR\"\n",
    "\n",
    "nameshort = name[2:6]\n",
    "print(nameshort)\n",
    "\n",
    "a = \"abcdefghijklmnopqrstuvwxyz\"\n",
    "\n",
    "print(a[0:27:3])"
   ]
  },
  {
   "cell_type": "code",
   "execution_count": 14,
   "metadata": {},
   "outputs": [
    {
     "name": "stdout",
     "output_type": "stream",
     "text": [
      "26\n"
     ]
    }
   ],
   "source": [
    "print(len(a))"
   ]
  },
  {
   "cell_type": "code",
   "execution_count": 21,
   "metadata": {},
   "outputs": [
    {
     "name": "stdout",
     "output_type": "stream",
     "text": [
      "SANJI IS A GERMA \n",
      "BUT HE DOESN'T WANNA ADMIT THAT HE IS\n"
     ]
    }
   ],
   "source": [
    "a = \"Sanji Is a Germa \\nBut He Doesn't Wanna Admit That He is\"\n",
    "\n",
    "print(a.upper())"
   ]
  },
  {
   "cell_type": "markdown",
   "metadata": {},
   "source": [
    "2) List And Tuples"
   ]
  },
  {
   "cell_type": "code",
   "execution_count": 50,
   "metadata": {},
   "outputs": [
    {
     "name": "stdout",
     "output_type": "stream",
     "text": [
      "4.6\n",
      "['Apple', 'Oranges', 5.6, 6.1, 6, False, 'Aakash']\n",
      "['Oranges', 5.6, 6.1]\n",
      "Append method\n",
      " ['Apple', 'Oranges', 5.6, 6.1, 6, False, 'Aakash', 'Sanji']\n",
      "Sort Method\n",
      " [3, 3, 4, 5, 5, 6, 6, 7, 13, 23, 94, 336, 1234]\n",
      "Reverse Method\n",
      " [1234, 336, 94, 23, 13, 7, 6, 6, 5, 5, 4, 3, 3]\n",
      "None\n",
      "Insert Method\n",
      " [1, 2, 3, 4, 5, 6, 7, 8, 9, 0]\n"
     ]
    },
    {
     "name": "stdout",
     "output_type": "stream",
     "text": [
      "Pop:\n",
      " [1, 3, 4, 5, 6, 7, 8, 9, 0]\n",
      "Remove:\n",
      " [1, 3, 4, 5, 6, 7, 8, 9]\n"
     ]
    }
   ],
   "source": [
    "##YOU CAN CHANGE LIST AFTERWORDS\n",
    "x = [\"Apple\", \"Oranges\", 5.6,4.6,6,False,\"Aakash\"]\n",
    "print(x[3])\n",
    "x[3] = 6.1\n",
    "print(x)\n",
    "print(x[1:4])\n",
    "\n",
    "\n",
    "\n",
    "\n",
    "\n",
    "## LIST METHODS\n",
    "\n",
    "\n",
    "#1) Append(adding something to list)\n",
    "x.append(\"Sanji\")\n",
    "print(f\"Append method\\n {x}\")\n",
    "\n",
    "\n",
    "#2) Sort (small to big)\n",
    "a = [13,23,336,1234,5,7,4,94,6,3,6,3,5]\n",
    "a.sort()\n",
    "print(f\"Sort Method\\n {a}\")\n",
    "\n",
    "\n",
    "#3) reverse (Big to small)\n",
    "a.reverse()\n",
    "print(f\"Reverse Method\\n {a}\")\n",
    "\n",
    "\n",
    "#4) Insert The Something into list\n",
    "b = [1,2,3,4,5,6,8,9,0]\n",
    "print(b.insert(6,7)) #6 Describe the index And 7 Describe the number to add\n",
    "print(f\"Insert Method\\n {b}\")\n",
    "\n",
    "\n",
    "#5) Pop (remove the element input: Index)\n",
    "n = int(input(\"Whats n\"))\n",
    "val = b.pop(n)\n",
    "\n",
    "print(f\"Pop:\\n {b}\")\n",
    "\n",
    "\n",
    "#6) Remove (Remove the element input: anything that you typed if that exist in this list will be removed )\n",
    "b.remove(0)\n",
    "print(f\"Remove:\\n {b}\")"
   ]
  },
  {
   "cell_type": "code",
   "execution_count": 66,
   "metadata": {},
   "outputs": [
    {
     "name": "stdout",
     "output_type": "stream",
     "text": [
      "Count\n",
      "\t(2,)\n",
      "Index\n",
      "\t2\n"
     ]
    }
   ],
   "source": [
    "## TUPLE: \n",
    "#Cannot Change Tuple\n",
    "\n",
    "#1) Count(Will Count how many Element are same as input)\n",
    "\n",
    "a = (1,2,3,5,6,7,4,2,4)\n",
    "\n",
    "num = a.count(4),\n",
    "print(f\"Count\\n\\t{num}\")\n",
    "\n",
    "#2) Index (Will be Stop if The Number is find out)\n",
    "\n",
    "i = a.index(3)\n",
    "print(f\"Index\\n\\t{i}\")\n",
    "\n"
   ]
  },
  {
   "cell_type": "markdown",
   "metadata": {},
   "source": [
    "## Dictionary And Sets ##"
   ]
  },
  {
   "cell_type": "code",
   "execution_count": 88,
   "metadata": {},
   "outputs": [
    {
     "name": "stdout",
     "output_type": "stream",
     "text": [
      "{'Sanji': 100, 'Nami': 90, 'Robin': 99, 'Marimo': -10000} <class 'dict'>\n",
      "99\n",
      "dict_items([('Sanji', 100), ('Nami', 90), ('Robin', 99), ('Marimo', -10000)])\n",
      "dict_keys(['Sanji', 'Nami', 'Robin', 'Marimo'])\n",
      "dict_values([100, 90, 99, -10000])\n",
      "{'Sanji': 100, 'Nami': 90, 'Robin': 99, 'Marimo': -69000000000}\n",
      "100\n"
     ]
    }
   ],
   "source": [
    "marks = {\n",
    "    \"Sanji\": 100,\n",
    "    \"Nami\": 90,\n",
    "    \"Robin\": 99,\n",
    "    \"Marimo\": -10000\n",
    "}\n",
    "\n",
    "print(marks, type(marks))\n",
    "\n",
    "##How To Access Elements\n",
    "\n",
    "print(marks[\"Robin\"])\n",
    "\n",
    "##Dict Methods\n",
    "\n",
    "print(marks.items())\n",
    "\n",
    "print(marks.keys())\n",
    "\n",
    "print(marks.values())\n",
    "\n",
    "marks.update({\"Marimo\": -69000000000})\n",
    "\n",
    "print(marks)\n",
    "\n",
    "print(marks.get(\"Sanji\"))\n",
    "\n",
    "##Difference Between Get And Access Method \n",
    "#Access Will Give Error but get will give none if the input doesn't match"
   ]
  },
  {
   "cell_type": "code",
   "execution_count": 13,
   "metadata": {},
   "outputs": [
    {
     "name": "stdout",
     "output_type": "stream",
     "text": [
      "{1, 2, 3, 4, 5, 6, 7, 9, 10, 89} <class 'set'>\n",
      "{1, 2, 3, 4, 5, 6, 7, 9, 10, 46, 89}\n",
      "11\n",
      "{1, 2, 3, 4, 5, 6, 7, 9, 46, 89}\n",
      "{1, 2, 3}\n"
     ]
    }
   ],
   "source": [
    "##SETS METHODS\n",
    "\n",
    "s = {1,2,3,4,5,6,7,89,9,9,9,10}\n",
    "print(s,type(s))\n",
    "s.add(46)\n",
    "print(s)\n",
    "\n",
    "\n",
    "\n",
    "print(len(s))\n",
    "s.remove(10)\n",
    "print(s)\n",
    "\n",
    "s2={3334,43,123,1,2,3,45}\n",
    "#print(s.union(s2))\n",
    "print(s.intersection(s2))"
   ]
  },
  {
   "cell_type": "code",
   "execution_count": null,
   "metadata": {},
   "outputs": [],
   "source": []
  },
  {
   "cell_type": "code",
   "execution_count": null,
   "metadata": {},
   "outputs": [],
   "source": []
  }
 ],
 "metadata": {
  "kernelspec": {
   "display_name": "venv",
   "language": "python",
   "name": "python3"
  },
  "language_info": {
   "codemirror_mode": {
    "name": "ipython",
    "version": 3
   },
   "file_extension": ".py",
   "mimetype": "text/x-python",
   "name": "python",
   "nbconvert_exporter": "python",
   "pygments_lexer": "ipython3",
   "version": "3.12.4"
  }
 },
 "nbformat": 4,
 "nbformat_minor": 2
}
