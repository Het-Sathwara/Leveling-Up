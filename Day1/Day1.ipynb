{
 "cells": [
  {
   "cell_type": "markdown",
   "metadata": {},
   "source": [
    "## Day 1: ##\n",
    "\n",
    "### 1) Basic Syntax ###\n",
    "### 2) Basic Conditional ###\n",
    "### 3) Basic Loops ###"
   ]
  },
  {
   "cell_type": "markdown",
   "metadata": {},
   "source": [
    "## Assignment ##\n",
    "### Basic Syntax ###\n",
    "\n",
    "1 Write a Python program to print \"Welcome to Python Programming!\".\n",
    "\n",
    "2 Write a Python program that takes two numbers as input and prints their sum.\n",
    "\n",
    "3 Write a Python program to find the square of a number.\n",
    "\n",
    "4 Write a Python program to swap two variables without using a third variable.\n",
    "\n",
    "5 Write a Python program to calculate the area of a rectangle given its length and width.\n",
    "\n",
    "6 Write a Python program to find the largest of three numbers.\n",
    "\n",
    "7 Write a Python program to check if a number is positive, negative, or zero.\n",
    "\n",
    "8 Write a Python program to check if a number is even or odd.\n",
    "\n",
    "9 Write a Python program to print the multiplication table of a given number.\n",
    "\n",
    "10 Write a Python program to calculate the factorial of a number using a loop."
   ]
  },
  {
   "cell_type": "code",
   "execution_count": 3,
   "metadata": {},
   "outputs": [
    {
     "name": "stdout",
     "output_type": "stream",
     "text": [
      "Welcome To Python!\n"
     ]
    }
   ],
   "source": [
    "print(\"Welcome To Python!\")"
   ]
  },
  {
   "cell_type": "code",
   "execution_count": 4,
   "metadata": {},
   "outputs": [
    {
     "name": "stdout",
     "output_type": "stream",
     "text": [
      "The Sum Of 3 and 2 is: 5\n"
     ]
    }
   ],
   "source": [
    "a = int(input(\"Write The 1st Number\"))\n",
    "b = int(input(\"Write The 2nd Number\"))\n",
    "print(f\"The Sum Of {a} and {b} is: {a+b}\")"
   ]
  },
  {
   "cell_type": "code",
   "execution_count": 6,
   "metadata": {},
   "outputs": [
    {
     "name": "stdout",
     "output_type": "stream",
     "text": [
      "The Sqaure Of 10 is: 100\n"
     ]
    }
   ],
   "source": [
    "a = int(input(\"Write a number to find square of:\"))\n",
    "print(f\"The Sqaure Of {a} is: {a**2}\")\n"
   ]
  },
  {
   "cell_type": "code",
   "execution_count": 7,
   "metadata": {},
   "outputs": [
    {
     "name": "stdout",
     "output_type": "stream",
     "text": [
      "5\n",
      "3\n"
     ]
    }
   ],
   "source": [
    "a = 3\n",
    "b = 5\n",
    "a,b = b,a\n",
    "print(a)\n",
    "print(b)"
   ]
  },
  {
   "cell_type": "code",
   "execution_count": 8,
   "metadata": {},
   "outputs": [
    {
     "name": "stdout",
     "output_type": "stream",
     "text": [
      "The Area Of The Given Rectangle is: 4\n"
     ]
    }
   ],
   "source": [
    "a = int(input(\"Write The 1st Number\"))\n",
    "b = int(input(\"Write The 2nd Number\"))\n",
    "\n",
    "print(f\"The Area Of The Given Rectangle is: {a*b}\")\n",
    "\n"
   ]
  },
  {
   "cell_type": "code",
   "execution_count": 11,
   "metadata": {},
   "outputs": [
    {
     "name": "stdout",
     "output_type": "stream",
     "text": [
      "32 is Greater Than 4 and 5\n"
     ]
    }
   ],
   "source": [
    "a = int(input(\"Write Number 1\"))\n",
    "b = int(input(\"Write Number 2\"))\n",
    "c = int(input(\"Write Number 3\"))\n",
    "\n",
    "if a>b and a>c:\n",
    "    print(f\"{a} (a) is Greater Than {b} and {c}\")\n",
    "elif b>a and b>c:\n",
    "    print(f\"{b} (b) is Greater Than {a} and {c}\")\n",
    "elif c>a and c>b:\n",
    "    print(f\"{c} (c) is Greater Than {a} and {b}\")\n",
    "else:\n",
    "    print(f\"{a} = {b} = {c}\")"
   ]
  },
  {
   "cell_type": "code",
   "execution_count": 14,
   "metadata": {},
   "outputs": [
    {
     "name": "stdout",
     "output_type": "stream",
     "text": [
      "0 Is Zero\n"
     ]
    }
   ],
   "source": [
    "a = int(input(\"Write A Number\"))\n",
    "if a > 0:\n",
    "    print(f\"{a} is positive\")\n",
    "elif a < 0:\n",
    "    print(f\"{a} Is Negative\")\n",
    "else:\n",
    "    print(f\"{a} Is Zero\")"
   ]
  },
  {
   "cell_type": "code",
   "execution_count": 16,
   "metadata": {},
   "outputs": [
    {
     "name": "stdout",
     "output_type": "stream",
     "text": [
      "3 is Odd\n"
     ]
    }
   ],
   "source": [
    "a = int(input(\"Write a number to know if its odd or even:\"))\n",
    "if a % 2 == 0:\n",
    "    print(f\"{a} Is Even\")\n",
    "else:\n",
    "    print(f\"{a} is Odd\")"
   ]
  },
  {
   "cell_type": "code",
   "execution_count": 19,
   "metadata": {},
   "outputs": [
    {
     "name": "stdout",
     "output_type": "stream",
     "text": [
      " 4 * 1 is 4\n",
      " 4 * 2 is 8\n",
      " 4 * 3 is 12\n",
      " 4 * 4 is 16\n",
      " 4 * 5 is 20\n",
      " 4 * 6 is 24\n",
      " 4 * 7 is 28\n",
      " 4 * 8 is 32\n",
      " 4 * 9 is 36\n",
      " 4 * 10 is 40\n"
     ]
    }
   ],
   "source": [
    "a = int(input(\"Write The 1st Number\"))\n",
    "for i in range(1,11):\n",
    "    print(f\" {a} * {i} is {a*i}\")"
   ]
  },
  {
   "cell_type": "code",
   "execution_count": 33,
   "metadata": {},
   "outputs": [
    {
     "name": "stdout",
     "output_type": "stream",
     "text": [
      "8\n",
      "16\n",
      "24\n",
      "32\n",
      "40\n",
      "48\n",
      "56\n",
      "64\n",
      "72\n",
      "80\n",
      "11\n"
     ]
    }
   ],
   "source": [
    "a = int(input(\"Write The 1st Number\"))\n",
    "i = 1\n",
    "while i<=10:\n",
    "    print(i*a)\n",
    "    i += 1\n",
    "print(i)"
   ]
  },
  {
   "cell_type": "code",
   "execution_count": 20,
   "metadata": {},
   "outputs": [
    {
     "name": "stdout",
     "output_type": "stream",
     "text": [
      "120\n"
     ]
    }
   ],
   "source": [
    "a = int(input(\"Write The 1st Number\"))\n",
    "fac = 1\n",
    "for i in range(1,a + 1):\n",
    "    fac *= i\n",
    "print(f\"{fac}\")"
   ]
  },
  {
   "cell_type": "code",
   "execution_count": 22,
   "metadata": {},
   "outputs": [
    {
     "name": "stdout",
     "output_type": "stream",
     "text": [
      "120\n"
     ]
    }
   ],
   "source": [
    "a = int(input(\"Write The 1st Number\"))\n",
    "fac = 1\n",
    "i = 1\n",
    "while i<= a:\n",
    "    fac *= i\n",
    "    i += 1\n",
    "print(f\"{fac}\")"
   ]
  },
  {
   "cell_type": "code",
   "execution_count": null,
   "metadata": {},
   "outputs": [],
   "source": []
  },
  {
   "cell_type": "code",
   "execution_count": null,
   "metadata": {},
   "outputs": [],
   "source": [
    "\n"
   ]
  },
  {
   "cell_type": "code",
   "execution_count": null,
   "metadata": {},
   "outputs": [],
   "source": []
  },
  {
   "cell_type": "code",
   "execution_count": null,
   "metadata": {},
   "outputs": [],
   "source": []
  },
  {
   "cell_type": "code",
   "execution_count": null,
   "metadata": {},
   "outputs": [],
   "source": []
  }
 ],
 "metadata": {
  "kernelspec": {
   "display_name": "Python 3",
   "language": "python",
   "name": "python3"
  },
  "language_info": {
   "codemirror_mode": {
    "name": "ipython",
    "version": 3
   },
   "file_extension": ".py",
   "mimetype": "text/x-python",
   "name": "python",
   "nbconvert_exporter": "python",
   "pygments_lexer": "ipython3",
   "version": "3.12.0"
  }
 },
 "nbformat": 4,
 "nbformat_minor": 2
}
