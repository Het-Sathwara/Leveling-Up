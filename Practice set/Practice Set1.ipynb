{
 "cells": [
  {
   "cell_type": "markdown",
   "metadata": {},
   "source": [
    "## String Practice ##"
   ]
  },
  {
   "cell_type": "code",
   "execution_count": 4,
   "metadata": {},
   "outputs": [
    {
     "name": "stdout",
     "output_type": "stream",
     "text": [
      "Hello, \n",
      "Sanji Vinsmoke\n"
     ]
    }
   ],
   "source": [
    "name = input(\"What Is Your Name\").title()\n",
    "print(f\"Hello, \\n{name}\")"
   ]
  },
  {
   "cell_type": "code",
   "execution_count": 7,
   "metadata": {},
   "outputs": [
    {
     "name": "stdout",
     "output_type": "stream",
     "text": [
      "Luffy Will Be The King Of The Pirates\n"
     ]
    }
   ],
   "source": [
    "string = \"Roger Is The King Of The Pirates\"\n",
    "\n",
    "print(string.replace(\"Roger\" , \"Luffy\").replace(\"Is\", \"Will Be\"))"
   ]
  },
  {
   "cell_type": "code",
   "execution_count": 9,
   "metadata": {},
   "outputs": [
    {
     "name": "stdout",
     "output_type": "stream",
     "text": [
      "12\n",
      "-1\n"
     ]
    }
   ],
   "source": [
    "name = \"One Piece Is  GOATED!!!!!!!!!!!!!!\"\n",
    "\n",
    "print(name.find(\"  \"))\n",
    "##If Theres Nothing in the Variable that matches with the find function it will show -1 like:\n",
    "\n",
    "name = \"One Piece Is GOATED!!!!!!!!!!!!!!\"\n",
    "\n",
    "print(name.find(\"  \"))\n"
   ]
  },
  {
   "cell_type": "markdown",
   "metadata": {},
   "source": [
    "## TUPLE AND LIST PRACTICE SET ##"
   ]
  },
  {
   "cell_type": "code",
   "execution_count": 19,
   "metadata": {},
   "outputs": [
    {
     "name": "stdout",
     "output_type": "stream",
     "text": [
      "['sanji', 'nami', 'robin', 'zoro', 'brook', 'apple', 'banana']\n"
     ]
    }
   ],
   "source": [
    "fruit = []\n",
    "while len(fruit) != 7:\n",
    "    f1 = input(\"Enter fruit\")\n",
    "    fruit.append(f1)\n",
    "print(fruit)\n"
   ]
  },
  {
   "cell_type": "code",
   "execution_count": 29,
   "metadata": {},
   "outputs": [
    {
     "name": "stdout",
     "output_type": "stream",
     "text": [
      "[24, 34, 41, 43, 44, 45, 54]\n"
     ]
    }
   ],
   "source": [
    "marks = []\n",
    "while len(marks) != 7:\n",
    "    f1 = input(\"Enter marks\")\n",
    "    marks.append(int(f1))\n",
    "marks.sort()\n",
    "print(marks)\n",
    "\n"
   ]
  },
  {
   "cell_type": "code",
   "execution_count": 30,
   "metadata": {},
   "outputs": [
    {
     "name": "stdout",
     "output_type": "stream",
     "text": [
      "4276\n"
     ]
    }
   ],
   "source": [
    "lst = [123,43,3456,654]\n",
    "print(sum(lst))"
   ]
  },
  {
   "cell_type": "markdown",
   "metadata": {},
   "source": [
    "## Dictionary And Sets ##"
   ]
  },
  {
   "cell_type": "code",
   "execution_count": 4,
   "metadata": {},
   "outputs": [
    {
     "name": "stdout",
     "output_type": "stream",
     "text": [
      "Help\n"
     ]
    }
   ],
   "source": [
    "words = {\n",
    "    \"madad\" : \"Help\",\n",
    "    \"gadda\" : \"Matress\"\n",
    "\n",
    "}\n",
    "inp = input(\"Enter the word you wanna know\").lower()\n",
    "print(words[inp])"
   ]
  },
  {
   "cell_type": "code",
   "execution_count": 6,
   "metadata": {},
   "outputs": [
    {
     "name": "stdout",
     "output_type": "stream",
     "text": [
      "{'Sanji': 'c', 'han': 'c', 'BBG': 'python', 'zoro': 'html'} <class 'dict'>\n"
     ]
    }
   ],
   "source": [
    "d = {}\n",
    "\n",
    "while len(d) != 4:\n",
    "    name = input(\"Enter your name\")\n",
    "    lan = input(\"Enter your fav language\")\n",
    "\n",
    "    d.update({name : lan})\n",
    "print(d, type(d))"
   ]
  },
  {
   "cell_type": "markdown",
   "metadata": {},
   "source": [
    "## Loops ## "
   ]
  },
  {
   "cell_type": "code",
   "execution_count": 16,
   "metadata": {},
   "outputs": [
    {
     "name": "stdout",
     "output_type": "stream",
     "text": [
      "5 x 1 = 5\n",
      "5 x 2 = 10\n",
      "5 x 3 = 15\n",
      "5 x 4 = 20\n",
      "5 x 5 = 25\n",
      "5 x 6 = 30\n",
      "5 x 7 = 35\n",
      "5 x 8 = 40\n",
      "5 x 9 = 45\n",
      "5 x 10 = 50\n"
     ]
    }
   ],
   "source": [
    "n = int(input(\"Write a number\"))\n",
    "#for i in range(1,11):\n",
    "i = 1\n",
    "while i<11:\n",
    "    print(f\"{n} x {i} = {n*i}\")\n",
    "    i+=1"
   ]
  },
  {
   "cell_type": "code",
   "execution_count": 32,
   "metadata": {},
   "outputs": [
    {
     "name": "stdout",
     "output_type": "stream",
     "text": [
      "number is prime\n"
     ]
    }
   ],
   "source": [
    "n = int(input(\"Write a number\"))\n",
    "\n",
    "for i in range(2,n):\n",
    "    if(n%i) ==0:\n",
    "        print(\"Number is not prime\")\n",
    "        break\n",
    "else:\n",
    "    print(\"number is prime\")\n",
    "\n",
    "\n",
    "\n",
    "\n"
   ]
  },
  {
   "cell_type": "code",
   "execution_count": null,
   "metadata": {},
   "outputs": [],
   "source": []
  },
  {
   "cell_type": "code",
   "execution_count": null,
   "metadata": {},
   "outputs": [],
   "source": []
  }
 ],
 "metadata": {
  "kernelspec": {
   "display_name": "venv",
   "language": "python",
   "name": "python3"
  },
  "language_info": {
   "codemirror_mode": {
    "name": "ipython",
    "version": 3
   },
   "file_extension": ".py",
   "mimetype": "text/x-python",
   "name": "python",
   "nbconvert_exporter": "python",
   "pygments_lexer": "ipython3",
   "version": "3.12.4"
  }
 },
 "nbformat": 4,
 "nbformat_minor": 2
}
