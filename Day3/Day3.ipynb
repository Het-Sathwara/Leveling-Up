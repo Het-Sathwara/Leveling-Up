{
 "cells": [
  {
   "cell_type": "markdown",
   "metadata": {},
   "source": [
    "## Day 3 ##\n",
    "### Define Function Practice ###"
   ]
  },
  {
   "cell_type": "markdown",
   "metadata": {},
   "source": [
    "## Project 1 ##\n",
    "#### Word Replacement ####"
   ]
  },
  {
   "cell_type": "code",
   "execution_count": 2,
   "metadata": {},
   "outputs": [
    {
     "name": "stdout",
     "output_type": "stream",
     "text": [
      "Hey Guys, Im SANJI, And Hey Hey Hey Hey Hey\n"
     ]
    }
   ],
   "source": [
    "def replace_word():\n",
    "    str = \"HI Guys, Im SANJI, And HI HI HI HI HI\"\n",
    "    word_to_replace =  input(\"Enter a word to replace\")\n",
    "    word_replacement = input(\"Enter a word replacement\")\n",
    "    print(str.replace(word_to_replace,word_replacement))\n",
    "\n",
    "replace_word()"
   ]
  },
  {
   "cell_type": "markdown",
   "metadata": {},
   "source": [
    "## Project 2 ##\n",
    "### Calculator ###"
   ]
  },
  {
   "cell_type": "code",
   "execution_count": 6,
   "metadata": {},
   "outputs": [
    {
     "name": "stdout",
     "output_type": "stream",
     "text": [
      "A. Addition\n",
      "B. Subtraction \n",
      "C. Multiplication\n",
      "D. Exponential \n",
      "E. Division\n",
      "F. Exit\n",
      "F. Quit\n"
     ]
    }
   ],
   "source": [
    "def add (a,b):\n",
    "    answer = a + b\n",
    "    print(f\"{str(a)} + {str(b)} = {answer}\")\n",
    "\n",
    "def sub(a,b):\n",
    "    answer = a - b\n",
    "    print(f\"{str(a)} - {str(b)} = {answer}\")\n",
    "def mul(a,b):\n",
    "    answer = a * b\n",
    "    print(f\"{str(a)} * {str(b)} = {answer}\")\n",
    "def exponential(a,b):\n",
    "    answer = a ** b\n",
    "    print(f\"{str(a)} **{str(b)} = {answer}\")\n",
    "def div(a,b):\n",
    "    answer = a/b\n",
    "    print(f\"{str(a)} / {str(b)} = {answer}\")\n",
    "\n",
    "while True:\n",
    "\n",
    "    print(\"A. Addition\")\n",
    "    print(\"B. Subtraction \")\n",
    "    print(\"C. Multiplication\")\n",
    "    print(\"D. Exponential \")\n",
    "    print(\"E. Division\")\n",
    "    print(\"F. Exit\")\n",
    "\n",
    "    choice = input(\"Input Your Choice:\")\n",
    "    if choice == \"a\" or choice == \"A\":\n",
    "        print(\"A. Addition\")\n",
    "        a = int(input(\"Write A Number\"))\n",
    "        b = int(input(\"Write 2nd Number\"))\n",
    "\n",
    "\n",
    "        add(a,b)\n",
    "\n",
    "    elif choice == \"b\" or choice == \"B\":\n",
    "        print(\"B. Subtraction\")\n",
    "        a = int(input(\"Write A Number\"))\n",
    "        b = int(input(\"Write 2nd Number\"))\n",
    "\n",
    "        sub(a,b)\n",
    "\n",
    "\n",
    "    \n",
    "    elif choice == \"c\" or choice == \"C\":\n",
    "        print(\"C. Multiplication\")\n",
    "        a = int(input(\"Write A Number\"))\n",
    "        b = int(input(\"Write 2nd Number\"))\n",
    "\n",
    "        mul(a,b)\n",
    "\n",
    "\n",
    "    elif choice == \"d\" or choice == \"D\":\n",
    "        print(\"D. Exponential \")\n",
    "        a = int(input(\"Write A Number\"))\n",
    "        b = int(input(\"Write 2nd Number\"))\n",
    "\n",
    "        exponential(a,b)\n",
    "\n",
    "\n",
    "\n",
    "    elif choice == \"e\" or choice == \"E\":\n",
    "        print(\"E. Division\")\n",
    "        a = int(input(\"Write A Number\"))\n",
    "        b = int(input(\"Write 2nd Number\"))\n",
    "        if \"a\" or \"b\" == 0:\n",
    "            print(\"Error! Input Is 0\")\n",
    "        else:\n",
    "            div(a,b)\n",
    "\n",
    "    elif choice == \"f\" or choice == \"F\":\n",
    "        print(\"F. Quit\")\n",
    "        break\n",
    "        \n",
    "    else:\n",
    "        print(\"Unknown Choice\")\n",
    "\n",
    "\n",
    "\n",
    "\n",
    "\n",
    "\n"
   ]
  },
  {
   "cell_type": "markdown",
   "metadata": {},
   "source": [
    "## Email Slicer ##"
   ]
  },
  {
   "cell_type": "markdown",
   "metadata": {},
   "source": [
    "#### Psedocode ####\n",
    "1) Collect Email\n",
    "2) split The Email Using @, The first part as the user name, the second part is gonna be saved as domain\n",
    "3) Split domain using .,\n"
   ]
  },
  {
   "cell_type": "code",
   "execution_count": 9,
   "metadata": {},
   "outputs": [
    {
     "name": "stdout",
     "output_type": "stream",
     "text": [
      "Welcome To The Email Slicer\n",
      "\n",
      "Username:  het.sathwara08\n",
      "Domain gmail\n",
      "Extention com\n"
     ]
    }
   ],
   "source": [
    "def main():\n",
    "    print(\"Welcome To The Email Slicer\")\n",
    "    print(\"\")\n",
    "\n",
    "    email = input(\"Input Your Email Address\")\n",
    "    (username , domain) = email.split(\"@\")\n",
    "    (domain , extention) = domain.split(\".\")\n",
    "    print(\"Username: \", username)\n",
    "    print(\"Domain\", domain)\n",
    "    print(\"Extention\", extention)\n",
    "main()"
   ]
  },
  {
   "cell_type": "markdown",
   "metadata": {},
   "source": []
  },
  {
   "cell_type": "code",
   "execution_count": null,
   "metadata": {},
   "outputs": [],
   "source": []
  },
  {
   "cell_type": "code",
   "execution_count": null,
   "metadata": {},
   "outputs": [],
   "source": []
  },
  {
   "cell_type": "code",
   "execution_count": null,
   "metadata": {},
   "outputs": [],
   "source": []
  }
 ],
 "metadata": {
  "kernelspec": {
   "display_name": ".venv",
   "language": "python",
   "name": "python3"
  },
  "language_info": {
   "codemirror_mode": {
    "name": "ipython",
    "version": 3
   },
   "file_extension": ".py",
   "mimetype": "text/x-python",
   "name": "python",
   "nbconvert_exporter": "python",
   "pygments_lexer": "ipython3",
   "version": "3.12.4"
  }
 },
 "nbformat": 4,
 "nbformat_minor": 2
}
