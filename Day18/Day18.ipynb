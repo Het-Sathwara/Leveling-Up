{
 "cells": [
  {
   "cell_type": "code",
   "execution_count": 4,
   "metadata": {},
   "outputs": [
    {
     "name": "stdout",
     "output_type": "stream",
     "text": [
      "1 x 3 = 3\n",
      "2 x 3 = 6\n",
      "3 x 3 = 9\n",
      "4 x 3 = 12\n",
      "5 x 3 = 15\n",
      "6 x 3 = 18\n",
      "7 x 3 = 21\n",
      "8 x 3 = 24\n",
      "9 x 3 = 27\n",
      "10 x 3 = 30\n"
     ]
    }
   ],
   "source": [
    "n = int(input(\"write a number\"))\n",
    "\n",
    "i = 1\n",
    "\n",
    "while i<11:\n",
    "    print(f\"{i} x {n} = {i*n}\")\n",
    "    i += 1"
   ]
  },
  {
   "cell_type": "code",
   "execution_count": 6,
   "metadata": {},
   "outputs": [],
   "source": [
    "import random as r"
   ]
  },
  {
   "cell_type": "code",
   "execution_count": 19,
   "metadata": {},
   "outputs": [
    {
     "name": "stdout",
     "output_type": "stream",
     "text": [
      "Guess Lower Number\n",
      "Guess Lower Number\n",
      "Guess Lower Number\n",
      "Guess Higher Number\n",
      "7 Crore\n",
      "Total Guess: 4\n"
     ]
    }
   ],
   "source": [
    "jackpot = r.randint(1,100)\n",
    "guess = int(input(\"Guess The Number\"))\n",
    "\n",
    "tot_guess = 0\n",
    "while jackpot != guess:\n",
    "    if guess < jackpot:\n",
    "        print(\"Guess Higher Number\")\n",
    "    else:\n",
    "        print(\"Guess Lower Number\")\n",
    "    guess = int(input(\"Guess Again\"))\n",
    "\n",
    "    tot_guess += 1\n",
    "\n",
    "\n",
    "\n",
    "\n",
    "print(\"7 Crore\")\n",
    "print(f\"Total Guess: {tot_guess}\")"
   ]
  },
  {
   "cell_type": "code",
   "execution_count": 29,
   "metadata": {},
   "outputs": [
    {
     "data": {
      "text/plain": [
       "[10, 9, 8, 7, 6, 5, 4, 3, 2, 1]"
      ]
     },
     "execution_count": 29,
     "metadata": {},
     "output_type": "execute_result"
    }
   ],
   "source": [
    "list(range(10,0,-1))"
   ]
  },
  {
   "cell_type": "code",
   "execution_count": 33,
   "metadata": {},
   "outputs": [
    {
     "name": "stdout",
     "output_type": "stream",
     "text": [
      "1\n",
      "2\n",
      "3\n",
      "4\n",
      "5\n",
      "6\n",
      "7\n",
      "8\n",
      "9\n",
      "10\n"
     ]
    }
   ],
   "source": [
    "for i in range(1,11):\n",
    "    print(i)"
   ]
  },
  {
   "cell_type": "code",
   "execution_count": 35,
   "metadata": {},
   "outputs": [
    {
     "name": "stdout",
     "output_type": "stream",
     "text": [
      "G\n",
      "u\n",
      "j\n",
      "a\n",
      "r\n",
      "a\n",
      "t\n"
     ]
    }
   ],
   "source": [
    "for i in 'Gujarat':\n",
    "    print(i)"
   ]
  },
  {
   "cell_type": "code",
   "execution_count": 38,
   "metadata": {},
   "outputs": [
    {
     "name": "stdout",
     "output_type": "stream",
     "text": [
      "*\n",
      "**\n",
      "***\n",
      "****\n",
      "*****\n",
      "******\n",
      "*******\n",
      "********\n",
      "*********\n",
      "**********\n"
     ]
    }
   ],
   "source": [
    "n = int(input(\"Write a Number\"))\n",
    "for i in range(1,n+1):\n",
    "    print(\"*\"*i , end =\"\")\n",
    "    print(\"\")"
   ]
  },
  {
   "cell_type": "code",
   "execution_count": 40,
   "metadata": {},
   "outputs": [
    {
     "name": "stdout",
     "output_type": "stream",
     "text": [
      "1\n",
      "2\n",
      "3\n",
      "4\n"
     ]
    }
   ],
   "source": [
    "for i in range(1,11):\n",
    "    if i == 5:\n",
    "        break\n",
    "    print(i)"
   ]
  },
  {
   "cell_type": "code",
   "execution_count": 41,
   "metadata": {},
   "outputs": [
    {
     "name": "stdout",
     "output_type": "stream",
     "text": [
      "1\n",
      "hello\n",
      "2\n",
      "hello\n",
      "3\n",
      "hello\n",
      "4\n",
      "hello\n",
      "6\n",
      "hello\n",
      "7\n",
      "hello\n",
      "8\n",
      "hello\n",
      "9\n",
      "hello\n",
      "10\n",
      "hello\n"
     ]
    }
   ],
   "source": [
    "for i in range(1,11):\n",
    "    if i == 5:\n",
    "        continue\n",
    "    print(i)\n",
    "    print(\"hello\")"
   ]
  },
  {
   "cell_type": "code",
   "execution_count": 50,
   "metadata": {},
   "outputs": [
    {
     "name": "stdout",
     "output_type": "stream",
     "text": [
      "Help on built-in function print in module builtins:\n",
      "\n",
      "print(*args, sep=' ', end='\\n', file=None, flush=False)\n",
      "    Prints the values to a stream, or to sys.stdout by default.\n",
      "\n",
      "    sep\n",
      "      string inserted between values, default a space.\n",
      "    end\n",
      "      string appended after the last value, default a newline.\n",
      "    file\n",
      "      a file-like object (stream); defaults to the current sys.stdout.\n",
      "    flush\n",
      "      whether to forcibly flush the stream.\n",
      "\n"
     ]
    }
   ],
   "source": [
    "#Absolute Number\n",
    "## Minus Ka Plus Krta\n",
    "\n",
    "abs(4)\n",
    "\n",
    "#Power Function\n",
    "#Power nikalta\n",
    "\n",
    "pow(2,4)\n",
    "\n",
    "#Min/Max \n",
    "## Minimun and maximum find krta\n",
    "\n",
    "a = list(range(1,11))\n",
    "min(a)\n",
    "\n",
    "#max(a)\n",
    "\n",
    "##Divmod\n",
    "divmod(5,2)\n",
    "\n",
    "##Len\n",
    "# FInd Length Of String and number\n",
    "len(a) \n",
    "\n",
    "\n",
    "##Help\n",
    "#Write functions name to see its documentaition\n",
    "\n",
    "help('print')"
   ]
  },
  {
   "cell_type": "code",
   "execution_count": 1,
   "metadata": {},
   "outputs": [
    {
     "name": "stdout",
     "output_type": "stream",
     "text": [
      "\n",
      "Please wait a moment while I gather a list of all available modules...\n",
      "\n",
      "Calculator          _weakref            html                requests\n",
      "IPython             _weakrefset         http                resource\n",
      "__future__          _zoneinfo           idna                rlcompleter\n",
      "__hello__           abc                 imaplib             runpy\n",
      "_abc                aifc                imghdr              sched\n",
      "_aix_support        antigravity         importlib           secrets\n",
      "_ast                argparse            inspect             select\n",
      "_asyncio            array               io                  selectors\n",
      "_bisect             ast                 ipaddress           shelve\n",
      "_blake2             asttokens           ipykernel           shlex\n",
      "_bz2                asyncio             ipykernel_launcher  shutil\n",
      "_codecs             atexit              itertools           signal\n",
      "_codecs_cn          audioop             jedi                site\n",
      "_codecs_hk          base64              json                six\n",
      "_codecs_iso2022     bdb                 jupyter             smtplib\n",
      "_codecs_jp          binascii            jupyter_client      sndhdr\n",
      "_codecs_kr          bisect              jupyter_core        socket\n",
      "_codecs_tw          builtins            keyword             socketserver\n",
      "_collections        bz2                 lib2to3             spwd\n",
      "_collections_abc    cProfile            linecache           sqlite3\n",
      "_compat_pickle      calendar            locale              sre_compile\n",
      "_compression        certifi             logging             sre_constants\n",
      "_contextvars        cgi                 lzma                sre_parse\n",
      "_crypt              cgitb               mailbox             ssl\n",
      "_csv                charset_normalizer  mailcap             stack_data\n",
      "_ctypes             chunk               marshal             stat\n",
      "_curses             cmath               math                statistics\n",
      "_curses_panel       cmd                 matplotlib_inline   string\n",
      "_datetime           code                mimetypes           stringprep\n",
      "_dbm                codecs              mmap                struct\n",
      "_decimal            codeop              modulefinder        subprocess\n",
      "_elementtree        collections         multiprocessing     sunau\n",
      "_functools          colorsys            nest_asyncio        symtable\n",
      "_gdbm               comm                netrc               sys\n",
      "_hashlib            compileall          nis                 sysconfig\n",
      "_heapq              concurrent          nntplib             syslog\n",
      "_imp                configparser        ntpath              tabnanny\n",
      "_io                 contextlib          nturl2path          tarfile\n",
      "_json               contextvars         numbers             telnetlib\n",
      "_locale             copy                numpy               tempfile\n",
      "_lsprof             copyreg             opcode              termios\n",
      "_lzma               cowsay              operator            textwrap\n",
      "_markupbase         crypt               optparse            this\n",
      "_md5                csv                 os                  threading\n",
      "_multibytecodec     ctypes              ossaudiodev         time\n",
      "_multiprocessing    curses              packaging           timeit\n",
      "_opcode             dataclasses         parso               token\n",
      "_operator           datetime            pathlib             tokenize\n",
      "_osx_support        dateutil            pdb                 tomllib\n",
      "_pickle             dbm                 pexpect             tornado\n",
      "_posixshmem         debugpy             pickle              trace\n",
      "_posixsubprocess    decimal             pickletools         traceback\n",
      "_py_abc             decorator           pip                 tracemalloc\n",
      "_pydatetime         difflib             pipes               traitlets\n",
      "_pydecimal          dis                 pkgutil             tty\n",
      "_pyio               doctest             platform            types\n",
      "_pylong             email               platformdirs        typing\n",
      "_queue              encodings           plistlib            unicodedata\n",
      "_random             ensurepip           poplib              unittest\n",
      "_sha1               enum                posix               urllib\n",
      "_sha2               errno               posixpath           urllib3\n",
      "_sha3               executing           pprint              uu\n",
      "_signal             faulthandler        profile             uuid\n",
      "_sitebuiltins       fcntl               prompt_toolkit      venv\n",
      "_socket             filecmp             pstats              warnings\n",
      "_sqlite3            fileinput           psutil              wave\n",
      "_sre                fnmatch             pty                 wcwidth\n",
      "_ssl                fractions           ptyprocess          weakref\n",
      "_stat               ftplib              pure_eval           webbrowser\n",
      "_statistics         functools           pwd                 wsgiref\n",
      "_string             gc                  py_compile          xdrlib\n",
      "_strptime           genericpath         pyclbr              xml\n",
      "_struct             getopt              pydoc               xmlrpc\n",
      "_symtable           getpass             pydoc_data          zipapp\n",
      "_sysconfigdata__linux_x86_64-linux-gnu gettext             pyexpat             zipfile\n",
      "_thread             glob                pygments            zipimport\n",
      "_threading_local    graphlib            queue               zlib\n",
      "_tokenize           grp                 quopri              zmq\n",
      "_tracemalloc        gzip                random              zoneinfo\n",
      "_typing             hashlib             re                  \n",
      "_uuid               heapq               readline            \n",
      "_warnings           hmac                reprlib             \n",
      "\n",
      "Enter any module name to get more help.  Or, type \"modules spam\" to search\n",
      "for modules whose name or summary contain the string \"spam\".\n",
      "\n"
     ]
    }
   ],
   "source": [
    "help('modules')"
   ]
  },
  {
   "cell_type": "code",
   "execution_count": 45,
   "metadata": {},
   "outputs": [
    {
     "name": "stdout",
     "output_type": "stream",
     "text": [
      "Hello Sanji\n",
      "Index from start: e\n",
      "Index from end: i\n",
      "Slicing: Hell\n",
      "Slicing: Hell\n",
      "Slicing:  Sanji\n",
      "Slicing: HloSn\n",
      "Slicing: jnaS olle\n",
      "Reverse: ijnaS olleH\n",
      "Slicing: Hello S\n",
      "hellohellohellohello\n",
      "H\n",
      "e\n",
      "l\n",
      "l\n",
      "o\n",
      " \n",
      "S\n",
      "a\n",
      "n\n",
      "j\n",
      "i\n"
     ]
    }
   ],
   "source": [
    "a = \"Hello Sanji\"\n",
    "print(a)\n",
    "\n",
    "#Indexing\n",
    "\n",
    "print('Index from start:',a[1])\n",
    "print('Index from end:',a[-1])\n",
    "\n",
    "#Slicing\n",
    "print('Slicing:',a[0:4])\n",
    "print('Slicing:',a[:4])\n",
    "print('Slicing:',a[5:])\n",
    "print('Slicing:',a[0:9:2])\n",
    "print('Slicing:',a[9:0:-1])\n",
    "print('Reverse:',a[::-1])\n",
    "print('Slicing:',a[0:-4])\n",
    "\n",
    "\n",
    "#Editing String: Lol You Can't Edit String Its Immutable\n",
    "b = \"Hey\"\n",
    "del(b)\n",
    "\n",
    "print(\"hello\"*4)\n",
    "\n",
    "#Membership Operator On String\n",
    "\n",
    "for i in a:\n",
    "    print(i)\n",
    "\n",
    "#for i in a[::-1]:\n",
    " #   print(i)\n",
    "\n",
    "\n",
    "\n",
    "\n"
   ]
  },
  {
   "cell_type": "code",
   "execution_count": 54,
   "metadata": {},
   "outputs": [
    {
     "name": "stdout",
     "output_type": "stream",
     "text": [
      "11\n"
     ]
    },
    {
     "data": {
      "text/plain": [
       "[' ', 'H', 'S', 'a', 'a', 'e', 'i', 'j', 'n', 'y', 'y']"
      ]
     },
     "execution_count": 54,
     "metadata": {},
     "output_type": "execute_result"
    }
   ],
   "source": [
    "#Len\n",
    "a = \"heyya Sanji\"\n",
    "print(len(a))\n",
    "\n",
    "b = [11,123,53,211]\n",
    "\n",
    "min(b)\n",
    "#max(b)\n",
    "\n",
    "sorted(a)"
   ]
  },
  {
   "cell_type": "code",
   "execution_count": 59,
   "metadata": {},
   "outputs": [
    {
     "data": {
      "text/plain": [
       "'Heyya sanji'"
      ]
     },
     "execution_count": 59,
     "metadata": {},
     "output_type": "execute_result"
    }
   ],
   "source": [
    "a.capitalize()"
   ]
  },
  {
   "cell_type": "code",
   "execution_count": 58,
   "metadata": {},
   "outputs": [
    {
     "data": {
      "text/plain": [
       "'Heyya Sanji'"
      ]
     },
     "execution_count": 58,
     "metadata": {},
     "output_type": "execute_result"
    }
   ],
   "source": [
    "a.title()"
   ]
  },
  {
   "cell_type": "code",
   "execution_count": 60,
   "metadata": {},
   "outputs": [
    {
     "data": {
      "text/plain": [
       "'HEYYA SANJI'"
      ]
     },
     "execution_count": 60,
     "metadata": {},
     "output_type": "execute_result"
    }
   ],
   "source": [
    "a.upper()"
   ]
  },
  {
   "cell_type": "code",
   "execution_count": 61,
   "metadata": {},
   "outputs": [
    {
     "data": {
      "text/plain": [
       "'heyya sanji'"
      ]
     },
     "execution_count": 61,
     "metadata": {},
     "output_type": "execute_result"
    }
   ],
   "source": [
    "a.lower()"
   ]
  },
  {
   "cell_type": "code",
   "execution_count": 62,
   "metadata": {},
   "outputs": [
    {
     "data": {
      "text/plain": [
       "'hEya BRo'"
      ]
     },
     "execution_count": 62,
     "metadata": {},
     "output_type": "execute_result"
    }
   ],
   "source": [
    "b = \"HeYA brO\"\n",
    "b.swapcase()"
   ]
  },
  {
   "cell_type": "code",
   "execution_count": 67,
   "metadata": {},
   "outputs": [
    {
     "data": {
      "text/plain": [
       "27"
      ]
     },
     "execution_count": 67,
     "metadata": {},
     "output_type": "execute_result"
    }
   ],
   "source": [
    "b = \"You Wanna Level Up Get The Sheet DOne K!ll Your Laziness\"\n",
    "\n",
    "b.count('a') #Count How Many Char Is There"
   ]
  },
  {
   "cell_type": "code",
   "execution_count": 68,
   "metadata": {},
   "outputs": [
    {
     "data": {
      "text/plain": [
       "27"
      ]
     },
     "execution_count": 68,
     "metadata": {},
     "output_type": "execute_result"
    }
   ],
   "source": [
    "b.find(\"Sheet\") #Agar koi chiz nai milti toh -1 Hojayega "
   ]
  },
  {
   "cell_type": "code",
   "execution_count": 69,
   "metadata": {},
   "outputs": [
    {
     "data": {
      "text/plain": [
       "27"
      ]
     },
     "execution_count": 69,
     "metadata": {},
     "output_type": "execute_result"
    }
   ],
   "source": [
    "b.index(\"Sheet\") #Agar Koi Chiz Nai Milti toh Error Ajayega"
   ]
  },
  {
   "cell_type": "code",
   "execution_count": 73,
   "metadata": {},
   "outputs": [
    {
     "name": "stdout",
     "output_type": "stream",
     "text": [
      "You Wanna Level Up Get The Sheet DOne K!ll Your Laziness\n"
     ]
    }
   ],
   "source": [
    "if b.startswith (\"You\"):\n",
    "    print(b)"
   ]
  },
  {
   "cell_type": "code",
   "execution_count": 90,
   "metadata": {},
   "outputs": [
    {
     "data": {
      "text/plain": [
       "'Heya Im Sanji and Im 16 Rate My Intro'"
      ]
     },
     "execution_count": 90,
     "metadata": {},
     "output_type": "execute_result"
    }
   ],
   "source": [
    "a = \"Heya Im {} and Im {} Rate My Intro\"\n",
    "a.format(\"Sanji\", 16)"
   ]
  },
  {
   "cell_type": "code",
   "execution_count": 101,
   "metadata": {},
   "outputs": [
    {
     "name": "stdout",
     "output_type": "stream",
     "text": [
      "['bro', 'you', 'are', 'f', 'the', 'Who']\n"
     ]
    }
   ],
   "source": [
    "a = \"Who the f are you bro\"\n",
    "b = a.split()\n",
    "print(b[::-1])"
   ]
  },
  {
   "cell_type": "code",
   "execution_count": null,
   "metadata": {},
   "outputs": [],
   "source": [
    "## List Vs Array\n",
    "\n",
    "###Array\n",
    "#1 Array Me Sara Info ek hi datatype ka Hoga\n",
    "#Array Me Ek ke Baad Ek CHize Store Hoti\n",
    "#Array Me ek datatype hai toh Vo Fast execute hoga\n",
    "#Array Are not Programmer Friendly in compare to list\n",
    "\n",
    "\n",
    "###List\n",
    "#1 List me sara info koi bhi datatype ka ho sakta\n",
    "#List me Aisa nai hota\n",
    "#List is Slower In compare to array\n",
    "#List Are More Programmer Friendly\n",
    "\n"
   ]
  },
  {
   "cell_type": "code",
   "execution_count": null,
   "metadata": {},
   "outputs": [],
   "source": []
  },
  {
   "cell_type": "code",
   "execution_count": null,
   "metadata": {},
   "outputs": [],
   "source": []
  },
  {
   "cell_type": "code",
   "execution_count": null,
   "metadata": {},
   "outputs": [],
   "source": []
  },
  {
   "cell_type": "code",
   "execution_count": null,
   "metadata": {},
   "outputs": [],
   "source": []
  },
  {
   "cell_type": "code",
   "execution_count": null,
   "metadata": {},
   "outputs": [],
   "source": []
  }
 ],
 "metadata": {
  "kernelspec": {
   "display_name": ".venv",
   "language": "python",
   "name": "python3"
  },
  "language_info": {
   "codemirror_mode": {
    "name": "ipython",
    "version": 3
   },
   "file_extension": ".py",
   "mimetype": "text/x-python",
   "name": "python",
   "nbconvert_exporter": "python",
   "pygments_lexer": "ipython3",
   "version": "3.12.4"
  }
 },
 "nbformat": 4,
 "nbformat_minor": 2
}
