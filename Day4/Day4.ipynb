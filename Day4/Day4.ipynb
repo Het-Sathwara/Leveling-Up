{
 "cells": [
  {
   "cell_type": "markdown",
   "metadata": {},
   "source": [
    "### Did Some Basic Def ###\n",
    "### And Learned About Some Modules ###"
   ]
  },
  {
   "cell_type": "code",
   "execution_count": 6,
   "metadata": {},
   "outputs": [
    {
     "name": "stdout",
     "output_type": "stream",
     "text": [
      "odd\n"
     ]
    }
   ],
   "source": [
    "n = int(input(\"Write a Number\"))\n",
    "def tp(n):\n",
    "    if n%2 == 0:\n",
    "        print(\"Even\")\n",
    "    else:\n",
    "        print(\"odd\")\n",
    "    \n",
    "\n",
    "tp(n)"
   ]
  },
  {
   "cell_type": "code",
   "execution_count": 21,
   "metadata": {},
   "outputs": [
    {
     "data": {
      "text/plain": [
       "77.0"
      ]
     },
     "execution_count": 21,
     "metadata": {},
     "output_type": "execute_result"
    }
   ],
   "source": [
    "### Temperature Converter\n",
    "\n",
    "unit = str(input(\"Write the unit\")).upper()\n",
    "temp = int(input(\"Write Temperature\"))\n",
    "def convert_temp(temp,unit):\n",
    "    \"\"\"Function Changes The Temp\"\"\"\n",
    "    if unit == 'C':\n",
    "        return temp * 9/5 + 32\n",
    "    elif unit == 'F':\n",
    "        return (temp - 32)*5/9\n",
    "    else:\n",
    "        return None\n",
    "convert_temp(temp , unit)"
   ]
  },
  {
   "cell_type": "code",
   "execution_count": 25,
   "metadata": {},
   "outputs": [
    {
     "data": {
      "text/plain": [
       "True"
      ]
     },
     "execution_count": 25,
     "metadata": {},
     "output_type": "execute_result"
    }
   ],
   "source": [
    "### Password Strength Checker\n",
    "\n",
    "password = input(\"Write Your Pass\")\n",
    "\n",
    "\n",
    "def strong_pass(password):\n",
    "    if len(password)<8:\n",
    "        return False\n",
    "    if not any(char.isdigit() for char in password):\n",
    "        return False\n",
    "    if not any(char.islower() for char in password):\n",
    "        return False\n",
    "    if not any(char.isupper() for char in password):\n",
    "        return False\n",
    "    if not any(char in '!@#$%^&*()_+' for char in password):\n",
    "        return False\n",
    "    return True\n",
    "strong_pass(password)"
   ]
  },
  {
   "cell_type": "code",
   "execution_count": null,
   "metadata": {},
   "outputs": [],
   "source": [
    "### RANDOM MODULE\n",
    "\n",
    "import random\n",
    "\n",
    "coin = random.choice([\"Heads\",\"Tails\"])\n",
    "print(coin)\n",
    "\n"
   ]
  },
  {
   "cell_type": "code",
   "execution_count": 8,
   "metadata": {},
   "outputs": [
    {
     "name": "stdout",
     "output_type": "stream",
     "text": [
      "Tails\n"
     ]
    }
   ],
   "source": [
    "from random import choice\n",
    "\n",
    "coin = choice([\"Heads\",\"Tails\"])\n",
    "print(coin)\n",
    "\n"
   ]
  },
  {
   "cell_type": "code",
   "execution_count": 15,
   "metadata": {},
   "outputs": [
    {
     "name": "stdout",
     "output_type": "stream",
     "text": [
      "10\n"
     ]
    }
   ],
   "source": [
    "import random \n",
    "num = random.randint(1,10)\n",
    "print(num)"
   ]
  },
  {
   "cell_type": "code",
   "execution_count": 18,
   "metadata": {},
   "outputs": [
    {
     "name": "stdout",
     "output_type": "stream",
     "text": [
      "Sanji\n",
      "Kaido\n",
      "Luffy\n",
      "Brook\n",
      "Shanks\n",
      "Zoro\n"
     ]
    }
   ],
   "source": [
    "import random\n",
    "\n",
    "names = [\"Sanji\",\"Luffy\",\"Zoro\",\"Brook\",\"Shanks\",\"Kaido\"]\n",
    "random.shuffle(names)\n",
    "for name in names:\n",
    "    print(name)"
   ]
  },
  {
   "cell_type": "code",
   "execution_count": 21,
   "metadata": {},
   "outputs": [
    {
     "name": "stdout",
     "output_type": "stream",
     "text": [
      "95\n"
     ]
    }
   ],
   "source": [
    "### STATISTICS MODULES\n",
    "import statistics       \n",
    "\n",
    "print(statistics.mean([100,90]))"
   ]
  },
  {
   "cell_type": "code",
   "execution_count": null,
   "metadata": {},
   "outputs": [],
   "source": [
    "### PACKAGES\n",
    "\n",
    "import cowsay\n",
    "import sys\n",
    "\n",
    "if len(sys.argv) == 2:\n",
    "    cowsay.cow(\"hello,\" + sys.argv[1])"
   ]
  }
 ],
 "metadata": {
  "kernelspec": {
   "display_name": ".venv",
   "language": "python",
   "name": "python3"
  },
  "language_info": {
   "codemirror_mode": {
    "name": "ipython",
    "version": 3
   },
   "file_extension": ".py",
   "mimetype": "text/x-python",
   "name": "python",
   "nbconvert_exporter": "python",
   "pygments_lexer": "ipython3",
   "version": "3.12.4"
  }
 },
 "nbformat": 4,
 "nbformat_minor": 2
}
