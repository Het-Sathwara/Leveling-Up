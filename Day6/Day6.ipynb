{
 "cells": [
  {
   "cell_type": "markdown",
   "metadata": {},
   "source": [
    "## Pseudo code ##\n",
    "\n",
    "1) Define the array\n",
    "2) Let The Variable N = The Length Of Array \n",
    "3) Make a Loop \"i\" and Let Min_num = \"i\"\n",
    "4) make inner loop \"j\" and make range \"i + 1, n\"\n",
    "5) make a condition that if the arr[j] is less than min_num\n",
    "6) then interchange the value of arr[i] and arr[mid_num]\n",
    "7) return [i]\n",
    "8) print the sorted array now"
   ]
  },
  {
   "cell_type": "code",
   "execution_count": 1,
   "metadata": {},
   "outputs": [
    {
     "name": "stdout",
     "output_type": "stream",
     "text": [
      "[-98, 3, 7, 11, 12, 22, 25, 43, 43, 64, 65, 65, 223, 456, 789, 65432]\n"
     ]
    }
   ],
   "source": [
    "arr = [64,43,65,223,789,-98,65,43,3,456,7,65432 ,25, 12, 22, 11]\n",
    "def selection(arr):\n",
    "    n = len(arr)\n",
    "\n",
    "    for i in range(n):\n",
    "        min_idx=i\n",
    "  \n",
    "        for j in range (i + 1, n):\n",
    "            if arr[j]< arr[min_idx]:\n",
    "                min_idx=j\n",
    "\n",
    "    \n",
    "        arr[i], arr[min_idx] = arr[min_idx], arr[i]\n",
    "\n",
    "    return arr\n",
    "\n",
    "\n",
    "sorted = selection(arr)\n",
    "print(sorted)"
   ]
  },
  {
   "cell_type": "markdown",
   "metadata": {},
   "source": [
    "## Bubble Sort ##"
   ]
  },
  {
   "cell_type": "code",
   "execution_count": 2,
   "metadata": {},
   "outputs": [
    {
     "name": "stdout",
     "output_type": "stream",
     "text": [
      "[-98, 3, 7, 11, 12, 22, 25, 43, 43, 64, 65, 65, 223, 456, 789, 65432]\n"
     ]
    }
   ],
   "source": [
    "arr = [64,43,65,223,789,-98,65,43,3,456,7,65432 ,25, 12, 22, 11]\n",
    "def bubble_sort(arr):\n",
    "    n = len(arr)\n",
    "    for i in range(n):\n",
    "         for j in range(0, n-i-1):\n",
    "            if arr[j] > arr[j+1]:\n",
    "                arr[j], arr[j+1] = arr[j+1], arr[j]\n",
    "    return arr\n",
    "\n",
    "bubble = bubble_sort(arr)\n",
    "print(bubble)"
   ]
  },
  {
   "cell_type": "code",
   "execution_count": 10,
   "metadata": {},
   "outputs": [
    {
     "name": "stdout",
     "output_type": "stream",
     "text": [
      "True\n"
     ]
    }
   ],
   "source": [
    "def palindrome(s):\n",
    "    s =s.lower().replace(\" \",\"\")\n",
    "    return s == s[::-1]\n",
    "print(palindrome(\"a man a plan a canal panama\"))"
   ]
  },
  {
   "cell_type": "code",
   "execution_count": 15,
   "metadata": {},
   "outputs": [
    {
     "name": "stdout",
     "output_type": "stream",
     "text": [
      "120\n"
     ]
    }
   ],
   "source": [
    "def factorial(n):\n",
    "    if n ==0:\n",
    "        return 1\n",
    "    else:\n",
    "        return n * factorial(n-1)\n",
    "print(factorial(5))\n"
   ]
  },
  {
   "cell_type": "code",
   "execution_count": null,
   "metadata": {},
   "outputs": [
    {
     "name": "stdout",
     "output_type": "stream",
     "text": [
      "120\n"
     ]
    }
   ],
   "source": [
    "def factorial(n):\n",
    "    if n ==0:\n",
    "        return 1\n",
    "    else:\n",
    "        return n * factorial(n-1)\n",
    "print(factorial(5))\n"
   ]
  },
  {
   "cell_type": "code",
   "execution_count": 21,
   "metadata": {},
   "outputs": [
    {
     "name": "stdout",
     "output_type": "stream",
     "text": [
      "{'hey': 1, 'my': 1, 'name': 1, 'is': 2, 'sanji': 1, 'how': 2, 'are': 1, 'you': 1, 'your': 1, 'day': 1, 'going': 1}\n"
     ]
    }
   ],
   "source": [
    "def count_word_freq(file_path):\n",
    "    word_count={}\n",
    "    with open(file_path, 'r')as file:\n",
    "        for line in file:\n",
    "            words = line.split()\n",
    "            for word in words:\n",
    "                word = word.lower().strip('.,!@#$%^&*?')\n",
    "                word_count[word]=word_count.get(word,0)+1\n",
    "\n",
    "    return word_count\n",
    "file = 'sample.txt'\n",
    "word_frequency = count_word_freq(file)\n",
    "print(word_frequency)"
   ]
  },
  {
   "cell_type": "code",
   "execution_count": null,
   "metadata": {},
   "outputs": [],
   "source": []
  }
 ],
 "metadata": {
  "kernelspec": {
   "display_name": ".venv",
   "language": "python",
   "name": "python3"
  },
  "language_info": {
   "codemirror_mode": {
    "name": "ipython",
    "version": 3
   },
   "file_extension": ".py",
   "mimetype": "text/x-python",
   "name": "python",
   "nbconvert_exporter": "python",
   "pygments_lexer": "ipython3",
   "version": "3.12.4"
  }
 },
 "nbformat": 4,
 "nbformat_minor": 2
}
