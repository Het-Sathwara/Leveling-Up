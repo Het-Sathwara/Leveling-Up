{
 "cells": [
  {
   "cell_type": "markdown",
   "metadata": {},
   "source": [
    "## LOOPS ##"
   ]
  },
  {
   "cell_type": "code",
   "execution_count": 59,
   "metadata": {},
   "outputs": [
    {
     "name": "stdout",
     "output_type": "stream",
     "text": [
      "4 x 1 = 4\n",
      "4 x 2 = 8\n",
      "4 x 3 = 12\n",
      "4 x 4 = 16\n",
      "4 x 5 = 20\n",
      "4 x 6 = 24\n",
      "4 x 7 = 28\n",
      "4 x 8 = 32\n",
      "4 x 9 = 36\n",
      "4 x 10 = 40\n"
     ]
    }
   ],
   "source": [
    "n = int(input(\"Write a number\"))\n",
    "\n",
    "for i in range(1,11,):\n",
    "    print(f\"{n} x {i} = {n*i}\")"
   ]
  },
  {
   "cell_type": "code",
   "execution_count": 60,
   "metadata": {},
   "outputs": [
    {
     "name": "stdout",
     "output_type": "stream",
     "text": [
      "Hello Sanji\n",
      "Hello Shanks\n"
     ]
    }
   ],
   "source": [
    "l = [\"Sanji\",\"Shanks\", \" Marimo\", \"Luffy\"]\n",
    "\n",
    "for name in l:\n",
    "    if(name.startswith(\"S\")):\n",
    "        print(f\"Hello {name}\")"
   ]
  },
  {
   "cell_type": "code",
   "execution_count": 61,
   "metadata": {},
   "outputs": [
    {
     "name": "stdout",
     "output_type": "stream",
     "text": [
      "4 x 1 = 4\n",
      "4 x 2 = 8\n",
      "4 x 3 = 12\n",
      "4 x 4 = 16\n",
      "4 x 5 = 20\n",
      "4 x 6 = 24\n",
      "4 x 7 = 28\n",
      "4 x 8 = 32\n",
      "4 x 9 = 36\n",
      "4 x 10 = 40\n"
     ]
    }
   ],
   "source": [
    "n = int(input(\"Write a number\"))\n",
    "i = 1\n",
    "while i < 11:\n",
    "    print(f\"{n} x {i} = {n*i}\")\n",
    "    i += 1"
   ]
  },
  {
   "cell_type": "code",
   "execution_count": 62,
   "metadata": {},
   "outputs": [
    {
     "name": "stdout",
     "output_type": "stream",
     "text": [
      "4 Is Not A Prime Number\n"
     ]
    }
   ],
   "source": [
    "n = int(input(\"Write number to check\"))\n",
    "\n",
    "for i in range(2,n):\n",
    "    if (n%i) == 0:\n",
    "        print(f\"{n} Is Not A Prime Number\")\n",
    "        break\n",
    "else:\n",
    "    print(f\"{n} Is A Prime Number\")"
   ]
  },
  {
   "cell_type": "code",
   "execution_count": 63,
   "metadata": {},
   "outputs": [
    {
     "name": "stdout",
     "output_type": "stream",
     "text": [
      "4 Is Not Prime\n",
      "4 Is A Prime Number\n"
     ]
    }
   ],
   "source": [
    "n = int(input(\"Write number to check\"))\n",
    "\n",
    "i = 2\n",
    "while n%i == 0:\n",
    "    print(f\"{n} Is Not Prime\")\n",
    "    i += 1\n",
    "else:\n",
    "    print(f\"{n} Is A Prime Number\")"
   ]
  },
  {
   "cell_type": "code",
   "execution_count": 64,
   "metadata": {},
   "outputs": [
    {
     "name": "stdout",
     "output_type": "stream",
     "text": [
      "10\n"
     ]
    }
   ],
   "source": [
    "n = int(input(\"Write number to check\"))\n",
    "i = 1\n",
    "sum = 0\n",
    "while i<=n:\n",
    "    sum += i\n",
    "    i += 1\n",
    "print(sum)"
   ]
  },
  {
   "cell_type": "code",
   "execution_count": 65,
   "metadata": {},
   "outputs": [
    {
     "name": "stdout",
     "output_type": "stream",
     "text": [
      "The Factorial Of 4 is 24\n"
     ]
    }
   ],
   "source": [
    "n = int(input(\"Write number to check\"))\n",
    "product = 1\n",
    "for i in range(1,n+1):\n",
    "    product = product * i\n",
    "print(f\"The Factorial Of {n} is {product}\")"
   ]
  },
  {
   "cell_type": "code",
   "execution_count": 66,
   "metadata": {},
   "outputs": [
    {
     "name": "stdout",
     "output_type": "stream",
     "text": [
      "The Factorial Of 4 is 24\n"
     ]
    }
   ],
   "source": [
    "n = int(input(\"Write number to check\"))\n",
    "product = 1\n",
    "i = 1\n",
    "while i <= n:\n",
    "    product = product * i\n",
    "    i = i + 1\n",
    "print(f\"The Factorial Of {n} is {product}\")"
   ]
  },
  {
   "cell_type": "code",
   "execution_count": 67,
   "metadata": {},
   "outputs": [
    {
     "name": "stdout",
     "output_type": "stream",
     "text": [
      "   *\n",
      "  ***\n",
      " *****\n",
      "*******\n"
     ]
    }
   ],
   "source": [
    "n = int(input(\"Write number to check\"))\n",
    "for i in range(1,n+1):\n",
    "    print(\" \"*(n-i), end = \"\")\n",
    "    print(\"*\"*(2*i-1), end =\"\")\n",
    "    print(\"\") "
   ]
  },
  {
   "cell_type": "code",
   "execution_count": 68,
   "metadata": {},
   "outputs": [
    {
     "name": "stdout",
     "output_type": "stream",
     "text": [
      "   *\n",
      "  ***\n",
      " *****\n",
      "*******\n"
     ]
    }
   ],
   "source": [
    "n = int(input(\"Write number to check\"))\n",
    "i = 1\n",
    "while i <= n:\n",
    "    print(\" \"*(n-i), end = \"\")\n",
    "    print(\"*\"*(2*i-1), end =\"\")\n",
    "    i += 1\n",
    "    print(\"\") "
   ]
  },
  {
   "cell_type": "code",
   "execution_count": 69,
   "metadata": {},
   "outputs": [
    {
     "name": "stdout",
     "output_type": "stream",
     "text": [
      "*\n",
      "**\n",
      "***\n",
      "****\n"
     ]
    }
   ],
   "source": [
    "n = int(input(\"Write number to check\"))\n",
    "for i in range(1,n+1):\n",
    "    print(\"*\" * i, end= \"\")\n",
    "    print(\"\")"
   ]
  },
  {
   "cell_type": "code",
   "execution_count": 70,
   "metadata": {},
   "outputs": [
    {
     "name": "stdout",
     "output_type": "stream",
     "text": [
      "****\n",
      "*  *\n",
      "*  *\n",
      "****\n"
     ]
    }
   ],
   "source": [
    "n = int(input(\"Write number to check\"))\n",
    "for i in range(1, n+1):\n",
    "    if i == 1 or i == n:\n",
    "        print(\"*\"*n)\n",
    "    else:\n",
    "        print(\"*\", end = \"\")\n",
    "        print(\" \"* (n-2), end = \"\")\n",
    "        print(\"*\", end = \"\")\n",
    "        print(\"\")"
   ]
  },
  {
   "cell_type": "code",
   "execution_count": 71,
   "metadata": {},
   "outputs": [
    {
     "name": "stdout",
     "output_type": "stream",
     "text": [
      "4 x 11 = 44\n",
      "4 x 10 = 40\n",
      "4 x 9 = 36\n",
      "4 x 8 = 32\n",
      "4 x 7 = 28\n",
      "4 x 6 = 24\n",
      "4 x 5 = 20\n",
      "4 x 4 = 16\n",
      "4 x 3 = 12\n",
      "4 x 2 = 8\n"
     ]
    }
   ],
   "source": [
    "n = int(input(\"Write a number\"))\n",
    "\n",
    "for i in range(11,1,-1):\n",
    "    print(f\"{n} x {i} = {n*i}\")"
   ]
  },
  {
   "cell_type": "code",
   "execution_count": null,
   "metadata": {},
   "outputs": [],
   "source": []
  },
  {
   "cell_type": "code",
   "execution_count": null,
   "metadata": {},
   "outputs": [],
   "source": []
  },
  {
   "cell_type": "code",
   "execution_count": null,
   "metadata": {},
   "outputs": [],
   "source": []
  }
 ],
 "metadata": {
  "kernelspec": {
   "display_name": "venv",
   "language": "python",
   "name": "python3"
  },
  "language_info": {
   "codemirror_mode": {
    "name": "ipython",
    "version": 3
   },
   "file_extension": ".py",
   "mimetype": "text/x-python",
   "name": "python",
   "nbconvert_exporter": "python",
   "pygments_lexer": "ipython3",
   "version": "3.12.4"
  }
 },
 "nbformat": 4,
 "nbformat_minor": 2
}
